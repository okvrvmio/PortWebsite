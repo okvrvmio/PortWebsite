{
 "cells": [
  {
   "cell_type": "markdown",
   "id": "cae9e954",
   "metadata": {},
   "source": [
    "# Cleaning Accident and Vehicle Data for SQL Queries\n",
    "\n",
    "### By Shahin Karami\n",
    "\n",
    "In this short notebook I use UK vehicle and accident data taken from [Kaggle](https://www.kaggle.com/datasets/tsiaras/uk-road-safety-accidents-and-vehicles/code). I remove columns that are not going to be used, clean the columns I plan to use, and rename  columns so writing the SQL Queries are easier.\n",
    "\n",
    "<hr>"
   ]
  },
  {
   "cell_type": "code",
   "execution_count": 183,
   "id": "b1903bf1",
   "metadata": {},
   "outputs": [],
   "source": [
    "import pandas as pd\n",
    "import numpy as np\n",
    "import warnings\n",
    "warnings.filterwarnings('ignore')"
   ]
  },
  {
   "cell_type": "code",
   "execution_count": 184,
   "id": "02f12396",
   "metadata": {},
   "outputs": [],
   "source": [
    "accident = pd.read_csv('accident.csv', dtype={'Accident_Index': 'object'})"
   ]
  },
  {
   "cell_type": "code",
   "execution_count": 185,
   "id": "6ac601fc",
   "metadata": {},
   "outputs": [],
   "source": [
    "vehicle = pd.read_csv('vehicle.csv', encoding = 'unicode_escape')"
   ]
  },
  {
   "cell_type": "markdown",
   "id": "c718b4da",
   "metadata": {},
   "source": [
    "<hr>\n",
    "\n",
    "### Accident Data Cleaning"
   ]
  },
  {
   "cell_type": "code",
   "execution_count": 186,
   "id": "a876b278",
   "metadata": {
    "scrolled": true
   },
   "outputs": [
    {
     "data": {
      "text/plain": [
       "['Accident_Index',\n",
       " '1st_Road_Class',\n",
       " '1st_Road_Number',\n",
       " '2nd_Road_Class',\n",
       " '2nd_Road_Number',\n",
       " 'Accident_Severity',\n",
       " 'Carriageway_Hazards',\n",
       " 'Date',\n",
       " 'Day_of_Week',\n",
       " 'Did_Police_Officer_Attend_Scene_of_Accident',\n",
       " 'Junction_Control',\n",
       " 'Junction_Detail',\n",
       " 'Latitude',\n",
       " 'Light_Conditions',\n",
       " 'Local_Authority_(District)',\n",
       " 'Local_Authority_(Highway)',\n",
       " 'Location_Easting_OSGR',\n",
       " 'Location_Northing_OSGR',\n",
       " 'Longitude',\n",
       " 'LSOA_of_Accident_Location',\n",
       " 'Number_of_Casualties',\n",
       " 'Number_of_Vehicles',\n",
       " 'Pedestrian_Crossing-Human_Control',\n",
       " 'Pedestrian_Crossing-Physical_Facilities',\n",
       " 'Police_Force',\n",
       " 'Road_Surface_Conditions',\n",
       " 'Road_Type',\n",
       " 'Special_Conditions_at_Site',\n",
       " 'Speed_limit',\n",
       " 'Time',\n",
       " 'Urban_or_Rural_Area',\n",
       " 'Weather_Conditions',\n",
       " 'Year',\n",
       " 'InScotland']"
      ]
     },
     "execution_count": 186,
     "metadata": {},
     "output_type": "execute_result"
    }
   ],
   "source": [
    "list(accident.columns)"
   ]
  },
  {
   "cell_type": "code",
   "execution_count": 187,
   "id": "a62e668e",
   "metadata": {},
   "outputs": [],
   "source": [
    "acc_cleaned = accident[['Accident_Index',\n",
    "                        'Accident_Severity',\n",
    "                        'Date', \n",
    "                        'Day_of_Week',\n",
    "                        'Speed_limit',\n",
    "                        'Light_Conditions',\n",
    "                        'Weather_Conditions',\n",
    "                        'Road_Surface_Conditions',\n",
    "                        'Urban_or_Rural_Area']]"
   ]
  },
  {
   "cell_type": "code",
   "execution_count": 188,
   "id": "6b1a64c3",
   "metadata": {},
   "outputs": [
    {
     "data": {
      "text/plain": [
       "Accident_Index              0\n",
       "Accident_Severity           0\n",
       "Date                        0\n",
       "Day_of_Week                 0\n",
       "Speed_limit                37\n",
       "Light_Conditions            0\n",
       "Weather_Conditions          0\n",
       "Road_Surface_Conditions     0\n",
       "Urban_or_Rural_Area         0\n",
       "dtype: int64"
      ]
     },
     "execution_count": 188,
     "metadata": {},
     "output_type": "execute_result"
    }
   ],
   "source": [
    "acc_cleaned.isnull().sum()"
   ]
  },
  {
   "cell_type": "code",
   "execution_count": 189,
   "id": "9a7066a8",
   "metadata": {},
   "outputs": [
    {
     "data": {
      "text/plain": [
       "Accident_Index             0\n",
       "Accident_Severity          0\n",
       "Date                       0\n",
       "Day_of_Week                0\n",
       "Speed_limit                0\n",
       "Light_Conditions           0\n",
       "Weather_Conditions         0\n",
       "Road_Surface_Conditions    0\n",
       "Urban_or_Rural_Area        0\n",
       "dtype: int64"
      ]
     },
     "execution_count": 189,
     "metadata": {},
     "output_type": "execute_result"
    }
   ],
   "source": [
    "acc_cleaned = acc_cleaned.dropna().reset_index(drop=True)\n",
    "acc_cleaned.isnull().sum()"
   ]
  },
  {
   "cell_type": "code",
   "execution_count": 190,
   "id": "bbc934f5",
   "metadata": {},
   "outputs": [],
   "source": [
    "acc_cleaned.rename(columns = {'Accident_Index':'AccidentIndex', \n",
    "                              'Accident_Severity':'Severity',\n",
    "                              'Day_of_Week':'Day',\n",
    "                              'Speed_limit':'SpeedLimit',\n",
    "                              'Light_Conditions':'LightConditions',\n",
    "                              'Weather_Conditions':'WeatherConditions',\n",
    "                              'Road_Surface_Conditions':'RoadConditions',\n",
    "                              'Urban_or_Rural_Area':'Area'}, inplace = True)"
   ]
  },
  {
   "cell_type": "code",
   "execution_count": 191,
   "id": "4f36c852",
   "metadata": {},
   "outputs": [
    {
     "data": {
      "text/plain": [
       "Index(['AccidentIndex', 'Severity', 'Date', 'Day', 'SpeedLimit',\n",
       "       'LightConditions', 'WeatherConditions', 'RoadConditions', 'Area'],\n",
       "      dtype='object')"
      ]
     },
     "execution_count": 191,
     "metadata": {},
     "output_type": "execute_result"
    }
   ],
   "source": [
    "acc_cleaned.columns"
   ]
  },
  {
   "cell_type": "code",
   "execution_count": 192,
   "id": "c613498a",
   "metadata": {},
   "outputs": [],
   "source": [
    "acc_cleaned.drop(acc_cleaned[acc_cleaned['Area'] == 'Unallocated'].index, inplace = True)\n",
    "\n",
    "acc_cleaned.drop(acc_cleaned[acc_cleaned['WeatherConditions'] == 'Data missing or out of range'].index, inplace = True)\n",
    "\n",
    "acc_cleaned.drop(acc_cleaned[acc_cleaned['LightConditions'] == 'Data missing or out of range'].index, inplace = True)\n",
    "acc_cleaned['LightConditions'] = acc_cleaned['LightConditions'].str.replace(r'Darkness.+', 'Darkness')"
   ]
  },
  {
   "cell_type": "code",
   "execution_count": 193,
   "id": "87bc566e",
   "metadata": {},
   "outputs": [
    {
     "data": {
      "text/plain": [
       "(2046887, 9)"
      ]
     },
     "execution_count": 193,
     "metadata": {},
     "output_type": "execute_result"
    }
   ],
   "source": [
    "acc_cleaned.shape"
   ]
  },
  {
   "cell_type": "markdown",
   "id": "9d72fb22",
   "metadata": {},
   "source": [
    "<hr>\n",
    "\n",
    "### Vehicle Data Cleaning"
   ]
  },
  {
   "cell_type": "code",
   "execution_count": 194,
   "id": "640abced",
   "metadata": {},
   "outputs": [
    {
     "data": {
      "text/plain": [
       "['Accident_Index',\n",
       " 'Age_Band_of_Driver',\n",
       " 'Age_of_Vehicle',\n",
       " 'Driver_Home_Area_Type',\n",
       " 'Driver_IMD_Decile',\n",
       " 'Engine_Capacity_.CC.',\n",
       " 'Hit_Object_in_Carriageway',\n",
       " 'Hit_Object_off_Carriageway',\n",
       " 'Journey_Purpose_of_Driver',\n",
       " 'Junction_Location',\n",
       " 'make',\n",
       " 'model',\n",
       " 'Propulsion_Code',\n",
       " 'Sex_of_Driver',\n",
       " 'Skidding_and_Overturning',\n",
       " 'Towing_and_Articulation',\n",
       " 'Vehicle_Leaving_Carriageway',\n",
       " 'Vehicle_Location.Restricted_Lane',\n",
       " 'Vehicle_Manoeuvre',\n",
       " 'Vehicle_Reference',\n",
       " 'Vehicle_Type',\n",
       " 'Was_Vehicle_Left_Hand_Drive',\n",
       " 'X1st_Point_of_Impact',\n",
       " 'Year']"
      ]
     },
     "execution_count": 194,
     "metadata": {},
     "output_type": "execute_result"
    }
   ],
   "source": [
    "list(vehicle.columns)"
   ]
  },
  {
   "cell_type": "code",
   "execution_count": 195,
   "id": "73b7d04a",
   "metadata": {},
   "outputs": [],
   "source": [
    "veh_cleaned = vehicle[['Accident_Index',\n",
    "                        'Vehicle_Type',\n",
    "                        'X1st_Point_of_Impact', \n",
    "                        'Was_Vehicle_Left_Hand_Drive',\n",
    "                        'Journey_Purpose_of_Driver',\n",
    "                        'Propulsion_Code',\n",
    "                        'Age_of_Vehicle']]"
   ]
  },
  {
   "cell_type": "code",
   "execution_count": 196,
   "id": "e4935dcc",
   "metadata": {},
   "outputs": [
    {
     "data": {
      "text/plain": [
       "Accident_Index                      0\n",
       "Vehicle_Type                        0\n",
       "X1st_Point_of_Impact                0\n",
       "Was_Vehicle_Left_Hand_Drive         0\n",
       "Journey_Purpose_of_Driver           0\n",
       "Propulsion_Code                245843\n",
       "Age_of_Vehicle                 358149\n",
       "dtype: int64"
      ]
     },
     "execution_count": 196,
     "metadata": {},
     "output_type": "execute_result"
    }
   ],
   "source": [
    "veh_cleaned.isnull().sum()"
   ]
  },
  {
   "cell_type": "code",
   "execution_count": 197,
   "id": "b5510ce4",
   "metadata": {},
   "outputs": [
    {
     "data": {
      "text/plain": [
       "Accident_Index                 0\n",
       "Vehicle_Type                   0\n",
       "X1st_Point_of_Impact           0\n",
       "Was_Vehicle_Left_Hand_Drive    0\n",
       "Journey_Purpose_of_Driver      0\n",
       "Propulsion_Code                0\n",
       "Age_of_Vehicle                 0\n",
       "dtype: int64"
      ]
     },
     "execution_count": 197,
     "metadata": {},
     "output_type": "execute_result"
    }
   ],
   "source": [
    "veh_cleaned = veh_cleaned.dropna().reset_index(drop=True)\n",
    "veh_cleaned.isnull().sum()"
   ]
  },
  {
   "cell_type": "code",
   "execution_count": 198,
   "id": "8b84e47d",
   "metadata": {},
   "outputs": [],
   "source": [
    "veh_cleaned.rename(columns = {'Accident_Index':'AccidentIndex', \n",
    "                              'Vehicle_Type':'VehicleType',\n",
    "                              'X1st_Point_of_Impact':'PointImpact',\n",
    "                              'Was_Vehicle_Left_Hand_Drive':'LeftHand',\n",
    "                              'Journey_Purpose_of_Driver':'JourneyPurpose',\n",
    "                              'Propulsion_Code':'Propulsion',\n",
    "                              'Age_of_Vehicle':'AgeVehicle',}, inplace = True)"
   ]
  },
  {
   "cell_type": "code",
   "execution_count": 199,
   "id": "75dbf782",
   "metadata": {},
   "outputs": [
    {
     "data": {
      "text/plain": [
       "Index(['AccidentIndex', 'VehicleType', 'PointImpact', 'LeftHand',\n",
       "       'JourneyPurpose', 'Propulsion', 'AgeVehicle'],\n",
       "      dtype='object')"
      ]
     },
     "execution_count": 199,
     "metadata": {},
     "output_type": "execute_result"
    }
   ],
   "source": [
    "veh_cleaned.columns"
   ]
  },
  {
   "cell_type": "code",
   "execution_count": 200,
   "id": "9fc6f72b",
   "metadata": {},
   "outputs": [],
   "source": [
    "veh_cleaned.drop(veh_cleaned[veh_cleaned['VehicleType'] == '109'].index, inplace = True)\n",
    "veh_cleaned.drop(veh_cleaned[veh_cleaned['VehicleType'] == '108'].index, inplace = True)\n",
    "veh_cleaned.drop(veh_cleaned[veh_cleaned['VehicleType'] == '106'].index, inplace = True)\n",
    "veh_cleaned.drop(veh_cleaned[veh_cleaned['VehicleType'] == 'Electric motorcycle'].index, inplace = True)\n",
    "veh_cleaned.drop(veh_cleaned[veh_cleaned['VehicleType'] == 'Mobility scooter'].index, inplace = True)\n",
    "veh_cleaned.drop(veh_cleaned[veh_cleaned['VehicleType'] == 'Data missing or out of range'].index, inplace = True)\n",
    "\n",
    "veh_cleaned.drop(veh_cleaned[veh_cleaned['LeftHand'] == 'Data missing or out of range'].index, inplace = True)\n",
    "\n",
    "veh_cleaned.drop(veh_cleaned[veh_cleaned['JourneyPurpose'] == 'Data missing or out of range'].index, inplace = True)\n",
    "\n",
    "veh_cleaned['JourneyPurpose'] = veh_cleaned['JourneyPurpose'].replace(to_replace = 'Other/Not known (2005-10)',\n",
    "                                                                      value = 'Other')\n",
    "\n",
    "veh_cleaned['JourneyPurpose'] = veh_cleaned['JourneyPurpose'].replace(to_replace = 'Not known',\n",
    "                                                                      value = 'Other')\n",
    "\n",
    "veh_cleaned.drop(veh_cleaned[veh_cleaned['PointImpact'] == 'Data missing or out of range'].index, inplace = True)\n"
   ]
  },
  {
   "cell_type": "code",
   "execution_count": 201,
   "id": "c54d7471",
   "metadata": {},
   "outputs": [
    {
     "data": {
      "text/plain": [
       "(1706167, 7)"
      ]
     },
     "execution_count": 201,
     "metadata": {},
     "output_type": "execute_result"
    }
   ],
   "source": [
    "veh_cleaned.shape"
   ]
  },
  {
   "cell_type": "markdown",
   "id": "1b133f0a",
   "metadata": {},
   "source": [
    "<hr>\n",
    "\n",
    "### Data Export"
   ]
  },
  {
   "cell_type": "code",
   "execution_count": 181,
   "id": "402e10b1",
   "metadata": {},
   "outputs": [],
   "source": [
    "acc_cleaned.to_csv(\"acc_cleaned.csv\")"
   ]
  },
  {
   "cell_type": "code",
   "execution_count": 182,
   "id": "2216a951",
   "metadata": {},
   "outputs": [],
   "source": [
    "veh_cleaned.to_csv(\"veh_cleaned.csv\")"
   ]
  }
 ],
 "metadata": {
  "kernelspec": {
   "display_name": "Python 3 (ipykernel)",
   "language": "python",
   "name": "python3"
  },
  "language_info": {
   "codemirror_mode": {
    "name": "ipython",
    "version": 3
   },
   "file_extension": ".py",
   "mimetype": "text/x-python",
   "name": "python",
   "nbconvert_exporter": "python",
   "pygments_lexer": "ipython3",
   "version": "3.9.12"
  }
 },
 "nbformat": 4,
 "nbformat_minor": 5
}
